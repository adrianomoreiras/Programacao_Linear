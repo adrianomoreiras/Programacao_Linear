{
 "cells": [
  {
   "cell_type": "markdown",
   "metadata": {},
   "source": [
    "# Escolher a melhor carteira de investimento"
   ]
  },
  {
   "cell_type": "code",
   "execution_count": 11,
   "metadata": {},
   "outputs": [],
   "source": [
    "from pulp import *"
   ]
  },
  {
   "cell_type": "markdown",
   "metadata": {},
   "source": [
    "## Informações disponíveis do problema"
   ]
  },
  {
   "cell_type": "code",
   "execution_count": 12,
   "metadata": {},
   "outputs": [],
   "source": [
    "#Dados do Problema\n",
    "capital = 1000000\n",
    "investimentos = [0,1,2,3,4]"
   ]
  },
  {
   "cell_type": "code",
   "execution_count": 13,
   "metadata": {},
   "outputs": [],
   "source": [
    "juros = {0:0.020,\n",
    "        1:0.030,\n",
    "        2:0.025,\n",
    "        3:0.032,\n",
    "        4:0.005}"
   ]
  },
  {
   "cell_type": "code",
   "execution_count": 14,
   "metadata": {},
   "outputs": [],
   "source": [
    "risco = {0:0.03,\n",
    "        1:0.08,\n",
    "        2:0.10,\n",
    "        3:0.13,\n",
    "        4:0.01}"
   ]
  },
  {
   "cell_type": "markdown",
   "metadata": {},
   "source": [
    "## Desenvolvimento da Pesquisa Operacional através da Programação Linear"
   ]
  },
  {
   "cell_type": "code",
   "execution_count": 16,
   "metadata": {},
   "outputs": [],
   "source": [
    "#Criar as Variáveis de Decisão\n",
    "var = LpVariable.dict(\"Investimento\",(investimentos), lowBound=70000,upBound=599999.99)"
   ]
  },
  {
   "cell_type": "code",
   "execution_count": 17,
   "metadata": {},
   "outputs": [],
   "source": [
    "#Criar o modelo\n",
    "model = LpProblem(\"Problema_investimento\",LpMaximize)"
   ]
  },
  {
   "cell_type": "code",
   "execution_count": 21,
   "metadata": {},
   "outputs": [
    {
     "name": "stdout",
     "output_type": "stream",
     "text": [
      "Problema_investimento:\n",
      "MAXIMIZE\n",
      "0.0194*Investimento_0 + 0.0276*Investimento_1 + 0.022500000000000003*Investimento_2 + 0.02784*Investimento_3 + 0.00495*Investimento_4 + 0.0\n",
      "VARIABLES\n",
      "70000 <= Investimento_0 <= 599999.99 Continuous\n",
      "70000 <= Investimento_1 <= 599999.99 Continuous\n",
      "70000 <= Investimento_2 <= 599999.99 Continuous\n",
      "70000 <= Investimento_3 <= 599999.99 Continuous\n",
      "70000 <= Investimento_4 <= 599999.99 Continuous\n",
      "\n"
     ]
    }
   ],
   "source": [
    "#Criar a Função Objetivo\n",
    "lista_fo = []\n",
    "for x in var.keys():\n",
    "    lista_fo.append(juros[x]*(1-risco[x])*var[x])\n",
    "model += lpSum(lista_fo)\n",
    "print(model)"
   ]
  },
  {
   "cell_type": "code",
   "execution_count": 22,
   "metadata": {},
   "outputs": [
    {
     "name": "stdout",
     "output_type": "stream",
     "text": [
      "Problema_investimento:\n",
      "MAXIMIZE\n",
      "0.0194*Investimento_0 + 0.0276*Investimento_1 + 0.022500000000000003*Investimento_2 + 0.02784*Investimento_3 + 0.00495*Investimento_4 + 0.0\n",
      "SUBJECT TO\n",
      "_C1: Investimento_0 + Investimento_1 + Investimento_2 + Investimento_3\n",
      " + Investimento_4 <= 1000000\n",
      "\n",
      "VARIABLES\n",
      "70000 <= Investimento_0 <= 599999.99 Continuous\n",
      "70000 <= Investimento_1 <= 599999.99 Continuous\n",
      "70000 <= Investimento_2 <= 599999.99 Continuous\n",
      "70000 <= Investimento_3 <= 599999.99 Continuous\n",
      "70000 <= Investimento_4 <= 599999.99 Continuous\n",
      "\n"
     ]
    }
   ],
   "source": [
    "#Criar as restrições\n",
    "lista_rest = []\n",
    "for x in var.values():\n",
    "    lista_rest.append(x)\n",
    "model += lpSum(lista_rest) <= capital\n",
    "print(model)"
   ]
  },
  {
   "cell_type": "markdown",
   "metadata": {},
   "source": [
    "## Solução para a maximação do lucro"
   ]
  },
  {
   "cell_type": "code",
   "execution_count": 24,
   "metadata": {},
   "outputs": [
    {
     "name": "stdout",
     "output_type": "stream",
     "text": [
      "Optimal\n",
      "O lucro foi de R$25227.4999976\n",
      " \n",
      "Investimento_0 = 70000.0\n",
      "Investimento_1 = 190000.01\n",
      "Investimento_2 = 70000.0\n",
      "Investimento_3 = 599999.99\n",
      "Investimento_4 = 70000.0\n"
     ]
    }
   ],
   "source": [
    "#Solução do modelo\n",
    "status = model.solve()\n",
    "print(LpStatus[status])\n",
    "print(f\"O lucro foi de R${value(model.objective)}\")\n",
    "print(\" \")\n",
    "for x in var.values():\n",
    "    print(f\"{x} = {value(x)}\")"
   ]
  }
 ],
 "metadata": {
  "kernelspec": {
   "display_name": "Python 3",
   "language": "python",
   "name": "python3"
  },
  "language_info": {
   "codemirror_mode": {
    "name": "ipython",
    "version": 3
   },
   "file_extension": ".py",
   "mimetype": "text/x-python",
   "name": "python",
   "nbconvert_exporter": "python",
   "pygments_lexer": "ipython3",
   "version": "3.7.6"
  }
 },
 "nbformat": 4,
 "nbformat_minor": 4
}
